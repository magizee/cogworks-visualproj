{
 "cells": [
  {
   "cell_type": "code",
   "execution_count": 20,
   "metadata": {},
   "outputs": [],
   "source": [
    "from pathlib import Path\n",
    "import numpy as np\n",
    "from PIL import Image\n",
    "import glob\n",
    "from facenet_models import FacenetModel\n",
    "from vision_profile import FaceDatabase\n"
   ]
  },
  {
   "cell_type": "code",
   "execution_count": 27,
   "metadata": {},
   "outputs": [
    {
     "ename": "AttributeError",
     "evalue": "'FaceDatabase' object has no attribute 'data'",
     "output_type": "error",
     "traceback": [
      "\u001b[1;31m---------------------------------------------------------------------------\u001b[0m",
      "\u001b[1;31mAttributeError\u001b[0m                            Traceback (most recent call last)",
      "Cell \u001b[1;32mIn[27], line 10\u001b[0m\n\u001b[0;32m      8\u001b[0m     descriptors \u001b[38;5;241m=\u001b[39m model\u001b[38;5;241m.\u001b[39mcompute_descriptors(pic_arr, boxes) \u001b[38;5;66;03m#gets descriptor for every file\u001b[39;00m\n\u001b[0;32m      9\u001b[0m     db\u001b[38;5;241m.\u001b[39madd_image(name, descriptors)\n\u001b[1;32m---> 10\u001b[0m \u001b[43mdb\u001b[49m\u001b[38;5;241;43m.\u001b[39;49m\u001b[43msave\u001b[49m\u001b[43m(\u001b[49m\u001b[43m)\u001b[49m\n\u001b[0;32m     12\u001b[0m \u001b[38;5;66;03m#pic = Image.open(r'pics/test/Will_Smith_test.jpg')  \u001b[39;00m\n\u001b[0;32m     13\u001b[0m \u001b[38;5;66;03m#pic_arr = np.array(pic)\u001b[39;00m\n",
      "File \u001b[1;32mc:\\Users\\mzhu2\\OneDrive\\Documents\\GitHub\\cogworks-visualproj\\vision_profile.py:42\u001b[0m, in \u001b[0;36mFaceDatabase.save\u001b[1;34m(self)\u001b[0m\n\u001b[0;32m     40\u001b[0m \u001b[38;5;28;01mdef\u001b[39;00m \u001b[38;5;21msave\u001b[39m(\u001b[38;5;28mself\u001b[39m):\n\u001b[0;32m     41\u001b[0m     \u001b[38;5;28;01mwith\u001b[39;00m \u001b[38;5;28mopen\u001b[39m(\u001b[38;5;28mself\u001b[39m\u001b[38;5;241m.\u001b[39mfile_path, \u001b[38;5;124m'\u001b[39m\u001b[38;5;124mwb\u001b[39m\u001b[38;5;124m'\u001b[39m) \u001b[38;5;28;01mas\u001b[39;00m f:\n\u001b[1;32m---> 42\u001b[0m         pickle\u001b[38;5;241m.\u001b[39mdump(\u001b[38;5;28;43mself\u001b[39;49m\u001b[38;5;241;43m.\u001b[39;49m\u001b[43mdata\u001b[49m, f)\n",
      "\u001b[1;31mAttributeError\u001b[0m: 'FaceDatabase' object has no attribute 'data'"
     ]
    }
   ],
   "source": [
    "model = FacenetModel()\n",
    "db = FaceDatabase(file_path=\"database.pkl\")\n",
    "for filename in glob.glob(r'/pics/train/*.jpg'):\n",
    "    pic = Image.open(filename)\n",
    "    pic_arr = np.array(pic)\n",
    "    boxes, probabilities, landmarks = model.detect(pic_arr)\n",
    "    name = filename[11:-6]\n",
    "    descriptors = model.compute_descriptors(pic_arr, boxes) #gets descriptor for every file\n",
    "    db.add_image(name, descriptors)\n",
    "db.save()\n",
    " \n",
    "#pic = Image.open(r'pics/test/Will_Smith_test.jpg')  \n",
    "#pic_arr = np.array(pic)"
   ]
  },
  {
   "cell_type": "code",
   "execution_count": 25,
   "metadata": {},
   "outputs": [],
   "source": [
    "for filename in glob.glob(r'../pics/train/*.jpg'):\n",
    "    print(filename[11:-6])\n",
    "    pic = Image.open(filename)\n",
    "    pic_arr = np.array(pic)\n",
    "    boxes, probabilities, landmarks = model.detect(pic_arr)\n",
    "    descriptors = model.compute_descriptors(pic_arr, boxes)\n",
    "    print(descriptors)"
   ]
  },
  {
   "cell_type": "code",
   "execution_count": null,
   "metadata": {},
   "outputs": [],
   "source": []
  }
 ],
 "metadata": {
  "kernelspec": {
   "display_name": "week2",
   "language": "python",
   "name": "python3"
  },
  "language_info": {
   "codemirror_mode": {
    "name": "ipython",
    "version": 3
   },
   "file_extension": ".py",
   "mimetype": "text/x-python",
   "name": "python",
   "nbconvert_exporter": "python",
   "pygments_lexer": "ipython3",
   "version": "3.8.19"
  }
 },
 "nbformat": 4,
 "nbformat_minor": 2
}
