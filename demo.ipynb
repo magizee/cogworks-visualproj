{
 "cells": [
  {
   "cell_type": "code",
   "execution_count": 15,
   "metadata": {},
   "outputs": [],
   "source": [
    "from pathlib import Path\n",
    "import numpy as np\n",
    "from PIL import Image\n",
    "import glob\n",
    "from facenet_models import FacenetModel\n",
    "from vision_profile import FaceDatabase\n",
    "from camera import take_picture\n",
    "from estimation import detect_face_prob, extract_descriptors, plot_histograms, cosine_distance, is_true_positive\n",
    "\n",
    "\n",
    "%matplotlib notebook\n",
    "\n",
    "\n",
    "model = FacenetModel()"
   ]
  },
  {
   "cell_type": "code",
   "execution_count": 13,
   "metadata": {},
   "outputs": [
    {
     "name": "stdout",
     "output_type": "stream",
     "text": [
      ".\\pics\\train\\Angelina_Jolie_1.jpg\n",
      ".\\pics\\train\\Angelina_Jolie_2.jpg\n",
      ".\\pics\\train\\Angelina_Jolie_3.jpg\n",
      ".\\pics\\train\\Scarlett_Johansson_1.jpg\n",
      ".\\pics\\train\\Scarlett_Johansson_2.jpg\n",
      ".\\pics\\train\\Scarlett_Johansson_3.jpg\n",
      ".\\pics\\train\\Tom_Cruise_1.jpg\n",
      ".\\pics\\train\\Tom_Cruise_2.jpg\n",
      ".\\pics\\train\\Tom_Cruise_3.jpg\n",
      ".\\pics\\train\\Will_Smith_1.jpg\n",
      ".\\pics\\train\\Will_Smith_2.jpg\n",
      ".\\pics\\train\\Will_Smith_3.jpg\n"
     ]
    }
   ],
   "source": [
    "db = FaceDatabase(file_path=\"database.pkl\")\n",
    "for filename in glob.glob(r'.\\pics\\train\\*.jpg'):\n",
    "    print(filename)\n",
    "    pic = Image.open(filename)\n",
    "    pic_arr = np.array(pic)\n",
    "    boxes, probabilities, landmarks = model.detect(pic_arr)\n",
    "    name = filename[11:-6]\n",
    "    descriptors = model.compute_descriptors(pic_arr, boxes) #gets descriptor for every file\n",
    "    db.add_image(name, descriptors)\n",
    "db.save()\n",
    " \n",
    "#pic = Image.open(r'pics/test/Will_Smith_test.jpg')  \n",
    "#pic_arr = np.array(pic)"
   ]
  },
  {
   "cell_type": "code",
   "execution_count": 16,
   "metadata": {},
   "outputs": [
    {
     "ename": "TypeError",
     "evalue": "is_true_positive() got an unexpected keyword argument 'detection_threshold'",
     "output_type": "error",
     "traceback": [
      "\u001b[1;31m---------------------------------------------------------------------------\u001b[0m",
      "\u001b[1;31mTypeError\u001b[0m                                 Traceback (most recent call last)",
      "Cell \u001b[1;32mIn[16], line 27\u001b[0m\n\u001b[0;32m     24\u001b[0m labels \u001b[38;5;241m=\u001b[39m [name] \u001b[38;5;241m*\u001b[39m \u001b[38;5;28mlen\u001b[39m(descriptors)\n\u001b[0;32m     26\u001b[0m \u001b[38;5;28;01mfor\u001b[39;00m prob \u001b[38;5;129;01min\u001b[39;00m probs:\n\u001b[1;32m---> 27\u001b[0m     \u001b[38;5;28;01mif\u001b[39;00m \u001b[43mis_true_positive\u001b[49m\u001b[43m(\u001b[49m\u001b[43mprob\u001b[49m\u001b[43m,\u001b[49m\u001b[43m \u001b[49m\u001b[43mdetection_threshold\u001b[49m\u001b[38;5;241;43m=\u001b[39;49m\u001b[38;5;241;43m0.5\u001b[39;49m\u001b[43m)\u001b[49m: \u001b[38;5;66;03m# 0.5 is placeholder\u001b[39;00m\n\u001b[0;32m     28\u001b[0m         true_positives\u001b[38;5;241m.\u001b[39mappend(prob)\n\u001b[0;32m     29\u001b[0m     \u001b[38;5;28;01melse\u001b[39;00m:\n",
      "\u001b[1;31mTypeError\u001b[0m: is_true_positive() got an unexpected keyword argument 'detection_threshold'"
     ]
    }
   ],
   "source": [
    "match_distances = []\n",
    "non_match_distances = []\n",
    "true_positives = []\n",
    "false_negatives = []\n",
    "\n",
    "for filename in glob.glob(r'./pics/train/*.jpg'):\n",
    "\n",
    "    pic = Image.open(filename)\n",
    "    pic_arr = np.array(pic)\n",
    "    boxes, probs, landmarks = model.detect(pic_arr)\n",
    "    descriptors = model.compute_descriptors(pic_arr, boxes)\n",
    "    # print(descriptors)\n",
    "\n",
    "    # detections = [detect_face_prob(img, model) for img in pic_arr]\n",
    "    # descriptors = [extract_descriptors(img, boxes, model) for img, (boxes, _, _) in zip(pic_arr, detections)]\n",
    "    # descriptors = np.concatenate(descriptors, axis=0)\n",
    "    # labels = np.concatenate([[label] * len(boxes) for label, (boxes, _, _) in zip(pic_arr, detections)], axis=0)\n",
    "\n",
    "    # match_distances, non_match_distances = cosine_distance(descriptors, labels, model)\n",
    "    # true_positives = [prob for _, probs in detections for prob in probs if is_true_positive(prob, labels)]\n",
    "    # false_negatives = [prob for _, probs in detections for prob in probs if not is_true_positive(prob, labels)]\n",
    "\n",
    "    name = filename.split('/')[-1].split('.')[0]\n",
    "    labels = [name] * len(descriptors)\n",
    "\n",
    "    for prob in probs:\n",
    "        if is_true_positive(prob, threshold=0.5): # 0.5 is placeholder\n",
    "            true_positives.append(prob)\n",
    "        else:\n",
    "            false_negatives.append(prob)\n",
    "\n",
    "    for i, descriptor1 in enumerate(descriptors):\n",
    "        for j, descriptor2 in enumerate(descriptors):\n",
    "            if i < j:\n",
    "                distance = cosine_distance([descriptor1], [descriptor2])[0][0]\n",
    "                if labels[i] == labels[j]:\n",
    "                    match_distances.append(distance)\n",
    "                else:\n",
    "                    non_match_distances.append(distance)\n",
    "\n",
    "plot_histograms(true_positives, false_negatives, match_distances, non_match_distances)"
   ]
  },
  {
   "cell_type": "code",
   "execution_count": null,
   "metadata": {},
   "outputs": [],
   "source": []
  }
 ],
 "metadata": {
  "kernelspec": {
   "display_name": "week2",
   "language": "python",
   "name": "python3"
  },
  "language_info": {
   "codemirror_mode": {
    "name": "ipython",
    "version": 3
   },
   "file_extension": ".py",
   "mimetype": "text/x-python",
   "name": "python",
   "nbconvert_exporter": "python",
   "pygments_lexer": "ipython3",
   "version": "3.8.19"
  }
 },
 "nbformat": 4,
 "nbformat_minor": 2
}
