{
 "cells": [
  {
   "cell_type": "code",
   "execution_count": 5,
   "metadata": {},
   "outputs": [],
   "source": [
    "from pathlib import Path\n",
    "import numpy as np\n",
    "from PIL import Image\n",
    "import glob\n",
    "from facenet_models import FacenetModel\n",
    "from vision_profile import FaceDatabase\n",
    "from camera import take_picture\n",
    "from estimation import detect_face_prob, extract_descriptors, plot_histograms, cosine_distance, is_true_positive\n",
    "\n",
    "\n",
    "%matplotlib notebook\n",
    "\n",
    "\n",
    "model = FacenetModel()"
   ]
  },
  {
   "cell_type": "code",
   "execution_count": 1,
   "metadata": {},
   "outputs": [
    {
     "ename": "NameError",
     "evalue": "name 'FaceDatabase' is not defined",
     "output_type": "error",
     "traceback": [
      "\u001b[1;31m---------------------------------------------------------------------------\u001b[0m",
      "\u001b[1;31mNameError\u001b[0m                                 Traceback (most recent call last)",
      "Cell \u001b[1;32mIn[1], line 1\u001b[0m\n\u001b[1;32m----> 1\u001b[0m db \u001b[38;5;241m=\u001b[39m \u001b[43mFaceDatabase\u001b[49m(file_path\u001b[38;5;241m=\u001b[39m\u001b[38;5;124m\"\u001b[39m\u001b[38;5;124mdatabase.pkl\u001b[39m\u001b[38;5;124m\"\u001b[39m)\n\u001b[0;32m      2\u001b[0m \u001b[38;5;28;01mfor\u001b[39;00m filename \u001b[38;5;129;01min\u001b[39;00m glob\u001b[38;5;241m.\u001b[39mglob(\u001b[38;5;124mr\u001b[39m\u001b[38;5;124m'\u001b[39m\u001b[38;5;124m/pics/train/*.jpg\u001b[39m\u001b[38;5;124m'\u001b[39m):\n\u001b[0;32m      3\u001b[0m     \u001b[38;5;28mprint\u001b[39m(filename)\n",
      "\u001b[1;31mNameError\u001b[0m: name 'FaceDatabase' is not defined"
     ]
    }
   ],
   "source": [
    "db = FaceDatabase(file_path=\"database.pkl\")\n",
    "for filename in glob.glob(r'/pics/train/*.jpg'):\n",
    "    print(filename)\n",
    "    pic = Image.open(filename)\n",
    "    pic_arr = np.array(pic)\n",
    "    boxes, probabilities, landmarks = model.detect(pic_arr)\n",
    "    name = filename[11:-6]\n",
    "    descriptors = model.compute_descriptors(pic_arr, boxes) #gets descriptor for every file\n",
    "    db.add_image(name, descriptors)\n",
    "db.save()\n",
    " \n",
    "#pic = Image.open(r'pics/test/Will_Smith_test.jpg')  \n",
    "#pic_arr = np.array(pic)"
   ]
  },
  {
   "cell_type": "code",
   "execution_count": null,
   "metadata": {},
   "outputs": [],
   "source": [
    "match_distances = []\n",
    "non_match_distances = []\n",
    "true_positives = []\n",
    "false_negatives = []\n",
    "\n",
    "for filename in glob.glob(r'./pics/train/*.jpg'):\n",
    "\n",
    "    pic = Image.open(filename)\n",
    "    pic_arr = np.array(pic)\n",
    "    boxes, probs, landmarks = model.detect(pic_arr)\n",
    "    descriptors = model.compute_descriptors(pic_arr, boxes)\n",
    "    # print(descriptors)\n",
    "\n",
    "    # detections = [detect_face_prob(img, model) for img in pic_arr]\n",
    "    # descriptors = [extract_descriptors(img, boxes, model) for img, (boxes, _, _) in zip(pic_arr, detections)]\n",
    "    # descriptors = np.concatenate(descriptors, axis=0)\n",
    "    # labels = np.concatenate([[label] * len(boxes) for label, (boxes, _, _) in zip(pic_arr, detections)], axis=0)\n",
    "\n",
    "    # match_distances, non_match_distances = cosine_distance(descriptors, labels, model)\n",
    "    # true_positives = [prob for _, probs in detections for prob in probs if is_true_positive(prob, labels)]\n",
    "    # false_negatives = [prob for _, probs in detections for prob in probs if not is_true_positive(prob, labels)]\n",
    "\n",
    "    name = filename.split('/')[-1].split('.')[0]\n",
    "    labels = [name] * len(descriptors)\n",
    "\n",
    "    for prob in probs:\n",
    "        if is_true_positive(prob, detection_threshold=0.5): # 0.5 is placeholder\n",
    "            true_positives.append(prob)\n",
    "        else:\n",
    "            false_negatives.append(prob)\n",
    "\n",
    "    for i, descriptor1 in enumerate(descriptors):\n",
    "        for j, descriptor2 in enumerate(descriptors):\n",
    "            if i < j:\n",
    "                distance = cosine_distance([descriptor1], [descriptor2])[0][0]\n",
    "                if labels[i] == labels[j]:\n",
    "                    match_distances.append(distance)\n",
    "                else:\n",
    "                    non_match_distances.append(distance)\n",
    "\n",
    "plot_histograms(true_positives, false_negatives, match_distances, non_match_distances)"
   ]
  },
  {
   "cell_type": "code",
   "execution_count": null,
   "metadata": {},
   "outputs": [],
   "source": []
  }
 ],
 "metadata": {
  "kernelspec": {
   "display_name": "week2",
   "language": "python",
   "name": "python3"
  },
  "language_info": {
   "codemirror_mode": {
    "name": "ipython",
    "version": 3
   },
   "file_extension": ".py",
   "mimetype": "text/x-python",
   "name": "python",
   "nbconvert_exporter": "python",
   "pygments_lexer": "ipython3",
   "version": "3.8.19"
  }
 },
 "nbformat": 4,
 "nbformat_minor": 2
}
