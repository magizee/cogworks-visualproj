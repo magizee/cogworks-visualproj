{
 "cells": [
  {
   "cell_type": "code",
   "execution_count": null,
   "metadata": {},
   "outputs": [],
   "source": [
    "from pathlib import Path\n",
    "import numpy as np\n",
    "from PIL import Image\n",
    "import glob\n",
    "from facenet_models import FacenetModel\n"
   ]
  },
  {
   "cell_type": "code",
   "execution_count": null,
   "metadata": {},
   "outputs": [],
   "source": [
    "model = FacenetModel()\n",
    "for filename in glob.glob(r'pics/train/*.jpg'):\n",
    "    pic = Image.open(filename)\n",
    "    pic_arr = np.array(pic)\n",
    "    boxes, probabilities, landmarks = model.detect(pic_arr)\n",
    "    descriptors = model.compute_descriptors(pic_arr, boxes)\n",
    "\n",
    "#pic = Image.open(r'pics/test/Will_Smith_test.jpg')  \n",
    "#pic_arr = np.array(pic)"
   ]
  },
  {
   "cell_type": "code",
   "execution_count": null,
   "metadata": {},
   "outputs": [],
   "source": []
  },
  {
   "cell_type": "code",
   "execution_count": null,
   "metadata": {},
   "outputs": [],
   "source": []
  }
 ],
 "metadata": {
  "language_info": {
   "name": "python"
  }
 },
 "nbformat": 4,
 "nbformat_minor": 2
}
