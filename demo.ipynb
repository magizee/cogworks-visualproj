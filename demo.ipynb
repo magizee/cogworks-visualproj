{
 "cells": [
  {
   "cell_type": "code",
   "execution_count": 7,
   "metadata": {},
   "outputs": [],
   "source": [
    "#from pathlib import Path\n",
    "from PIL import Image\n",
    "import numpy as np\n",
    "import glob\n",
    "from facenet_models import FacenetModel"
   ]
  },
  {
   "cell_type": "code",
   "execution_count": 8,
   "metadata": {},
   "outputs": [
    {
     "data": {
      "text/plain": [
       "\"\\nfor filename in glob.glob(r'pics\\train\\\\*.jpg'):\\n    pic = Image.open(filename)\\n    pic_arr = np.array(pic)\\n    boxes, probabilities, landmarks = model.detect(pic_arr)\\n    descriptors = model.compute_descriptors(pic_arr, boxes)\\n\\n#pic = Image.open(r'pics/test/Will_Smith_test.jpg')  \\n#pic_arr = np.array(pic)\""
      ]
     },
     "execution_count": 8,
     "metadata": {},
     "output_type": "execute_result"
    }
   ],
   "source": [
    "model = FacenetModel()\n",
    "'''\n",
    "for filename in glob.glob(r'pics\\train\\*.jpg'):\n",
    "    pic = Image.open(filename)\n",
    "    pic_arr = np.array(pic)\n",
    "    boxes, probabilities, landmarks = model.detect(pic_arr)\n",
    "    descriptors = model.compute_descriptors(pic_arr, boxes)\n",
    "\n",
    "#pic = Image.open(r'pics/test/Will_Smith_test.jpg')  \n",
    "#pic_arr = np.array(pic)'''"
   ]
  },
  {
   "cell_type": "code",
   "execution_count": 9,
   "metadata": {},
   "outputs": [
    {
     "name": "stdout",
     "output_type": "stream",
     "text": [
      "pics\\train\\Angelina_Jolie_1.jpg\n",
      "Angelina_Jolie\n",
      "pics\\train\\Angelina_Jolie_2.jpg\n",
      "Angelina_Jolie\n",
      "pics\\train\\Angelina_Jolie_3.jpg\n",
      "Angelina_Jolie\n",
      "pics\\train\\Scarlett_Johansson_1.jpg\n",
      "Scarlett_Johansson\n",
      "pics\\train\\Scarlett_Johansson_2.jpg\n",
      "Scarlett_Johansson\n",
      "pics\\train\\Scarlett_Johansson_3.jpg\n",
      "Scarlett_Johansson\n",
      "pics\\train\\Tom_Cruise_1.jpg\n",
      "Tom_Cruise\n",
      "pics\\train\\Tom_Cruise_2.jpg\n",
      "Tom_Cruise\n",
      "pics\\train\\Tom_Cruise_3.jpg\n",
      "Tom_Cruise\n",
      "pics\\train\\Will_Smith_1.jpg\n",
      "Will_Smith\n",
      "pics\\train\\Will_Smith_2.jpg\n",
      "Will_Smith\n",
      "pics\\train\\Will_Smith_3.jpg\n",
      "Will_Smith\n"
     ]
    }
   ],
   "source": [
    "for filename in glob.glob(r'pics\\train\\*.jpg'):\n",
    "    print(filename)\n",
    "    print(filename[11:-6])\n",
    "    pic = Image.open(filename)\n",
    "    pic_arr = np.array(pic)\n",
    "    boxes, probabilities, landmarks = model.detect(pic_arr)\n",
    "    descriptors = model.compute_descriptors(pic_arr, boxes)"
   ]
  },
  {
   "cell_type": "code",
   "execution_count": null,
   "metadata": {},
   "outputs": [],
   "source": []
  }
 ],
 "metadata": {
  "kernelspec": {
   "display_name": "week2",
   "language": "python",
   "name": "python3"
  },
  "language_info": {
   "codemirror_mode": {
    "name": "ipython",
    "version": 3
   },
   "file_extension": ".py",
   "mimetype": "text/x-python",
   "name": "python",
   "nbconvert_exporter": "python",
   "pygments_lexer": "ipython3",
   "version": "3.8.19"
  }
 },
 "nbformat": 4,
 "nbformat_minor": 2
}
