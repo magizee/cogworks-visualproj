{
 "cells": [
  {
   "cell_type": "code",
   "execution_count": 4,
   "metadata": {},
   "outputs": [],
   "source": [
    "#from pathlib import Path\n",
    "from PIL import Image\n",
    "import numpy as np\n",
    "import glob\n",
    "from facenet_models import FacenetModel"
   ]
  },
  {
   "cell_type": "code",
   "execution_count": 5,
   "metadata": {},
   "outputs": [
    {
     "data": {
      "text/plain": [
       "\"\\nfor filename in glob.glob(r'pics\\train\\\\*.jpg'):\\n    pic = Image.open(filename)\\n    pic_arr = np.array(pic)\\n    boxes, probabilities, landmarks = model.detect(pic_arr)\\n    descriptors = model.compute_descriptors(pic_arr, boxes)\\n\\n#pic = Image.open(r'pics/test/Will_Smith_test.jpg')  \\n#pic_arr = np.array(pic)\""
      ]
     },
     "execution_count": 5,
     "metadata": {},
     "output_type": "execute_result"
    }
   ],
   "source": [
    "model = FacenetModel()\n",
    "'''\n",
    "for filename in glob.glob(r'pics\\train\\*.jpg'):\n",
    "    pic = Image.open(filename)\n",
    "    pic_arr = np.array(pic)\n",
    "    boxes, probabilities, landmarks = model.detect(pic_arr)\n",
    "    descriptors = model.compute_descriptors(pic_arr, boxes)\n",
    "\n",
    "#pic = Image.open(r'pics/test/Will_Smith_test.jpg')  \n",
    "#pic_arr = np.array(pic)'''"
   ]
  },
  {
   "cell_type": "code",
   "execution_count": 6,
   "metadata": {},
   "outputs": [
    {
     "name": "stdout",
     "output_type": "stream",
     "text": [
      "pics\\train\\Angelina_Jolie_1.jpg\n",
      "Angelina_Jolie\n"
     ]
    },
    {
     "ename": "UnidentifiedImageError",
     "evalue": "cannot identify image file 'pics\\\\train\\\\Angelina_Jolie_1.jpg'",
     "output_type": "error",
     "traceback": [
      "\u001b[1;31m---------------------------------------------------------------------------\u001b[0m",
      "\u001b[1;31mUnidentifiedImageError\u001b[0m                    Traceback (most recent call last)",
      "Cell \u001b[1;32mIn[6], line 4\u001b[0m\n\u001b[0;32m      2\u001b[0m \u001b[38;5;28mprint\u001b[39m(filename)\n\u001b[0;32m      3\u001b[0m \u001b[38;5;28mprint\u001b[39m(filename[\u001b[38;5;241m11\u001b[39m:\u001b[38;5;241m-\u001b[39m\u001b[38;5;241m6\u001b[39m])\n\u001b[1;32m----> 4\u001b[0m pic \u001b[38;5;241m=\u001b[39m \u001b[43mImage\u001b[49m\u001b[38;5;241;43m.\u001b[39;49m\u001b[43mopen\u001b[49m\u001b[43m(\u001b[49m\u001b[43mfilename\u001b[49m\u001b[43m)\u001b[49m\n\u001b[0;32m      5\u001b[0m pic_arr \u001b[38;5;241m=\u001b[39m np\u001b[38;5;241m.\u001b[39marray(pic)\n\u001b[0;32m      6\u001b[0m boxes, probabilities, landmarks \u001b[38;5;241m=\u001b[39m model\u001b[38;5;241m.\u001b[39mdetect(pic_arr)\n",
      "File \u001b[1;32mc:\\Users\\kavya\\anaconda3\\envs\\week2\\lib\\site-packages\\PIL\\Image.py:3309\u001b[0m, in \u001b[0;36mopen\u001b[1;34m(fp, mode, formats)\u001b[0m\n\u001b[0;32m   3307\u001b[0m     warnings\u001b[38;5;241m.\u001b[39mwarn(message)\n\u001b[0;32m   3308\u001b[0m msg \u001b[38;5;241m=\u001b[39m \u001b[38;5;124m\"\u001b[39m\u001b[38;5;124mcannot identify image file \u001b[39m\u001b[38;5;132;01m%r\u001b[39;00m\u001b[38;5;124m\"\u001b[39m \u001b[38;5;241m%\u001b[39m (filename \u001b[38;5;28;01mif\u001b[39;00m filename \u001b[38;5;28;01melse\u001b[39;00m fp)\n\u001b[1;32m-> 3309\u001b[0m \u001b[38;5;28;01mraise\u001b[39;00m UnidentifiedImageError(msg)\n",
      "\u001b[1;31mUnidentifiedImageError\u001b[0m: cannot identify image file 'pics\\\\train\\\\Angelina_Jolie_1.jpg'"
     ]
    }
   ],
   "source": [
    "for filename in glob.glob(r'pics\\train\\*.jpg'):\n",
    "    print(filename)\n",
    "    print(filename[11:-6])\n",
    "    pic = Image.open(filename)\n",
    "    pic_arr = np.array(pic)\n",
    "    boxes, probabilities, landmarks = model.detect(pic_arr)\n",
    "    descriptors = model.compute_descriptors(pic_arr, boxes)"
   ]
  },
  {
   "cell_type": "code",
   "execution_count": null,
   "metadata": {},
   "outputs": [],
   "source": []
  }
 ],
 "metadata": {
  "kernelspec": {
   "display_name": "week2",
   "language": "python",
   "name": "python3"
  },
  "language_info": {
   "codemirror_mode": {
    "name": "ipython",
    "version": 3
   },
   "file_extension": ".py",
   "mimetype": "text/x-python",
   "name": "python",
   "nbconvert_exporter": "python",
   "pygments_lexer": "ipython3",
   "version": "3.8.19"
  }
 },
 "nbformat": 4,
 "nbformat_minor": 2
}
