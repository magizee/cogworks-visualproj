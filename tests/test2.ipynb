{
 "cells": [
  {
   "cell_type": "code",
   "execution_count": null,
   "metadata": {},
   "outputs": [],
   "source": [
    "import numpy as np"
   ]
  },
  {
   "cell_type": "code",
   "execution_count": null,
   "metadata": {},
   "outputs": [],
   "source": [
    "def find_cos_dist(m: np.ndarray, n: np.ndarray):\n",
    "    \"\"\"\n",
    "    Function to measure cosine distance between face descriptors. \n",
    "    It is useful to be able to take in a shape-(M, D) array of M descriptor \n",
    "    vectors and a shape-(N, D) array of N descriptor vectors, and compute a shape-(M, N) \n",
    "    array of cosine distances – this holds all MxN combinations of pairwise cosine distances.\n",
    "\n",
    "    \"\"\"\n",
    "    m_norm = m / np.linalg.norm(m, axis=1, keepdims=True) # m / |m|\n",
    "    n_norm = n / np.linalg.norm(n, axis =1, keepdims=True) \n",
    "\n",
    "    dot_mn = np.dot(m_norm, n_norm.T)\n",
    "\n",
    "    return 1 - dot_mn"
   ]
  },
  {
   "cell_type": "code",
   "execution_count": null,
   "metadata": {},
   "outputs": [],
   "source": [
    "m = np.array([[4, 5, 1, 2, 5, 6, 1], [5, 6, 7, 1, 2, 3, 2],  [6, 6, 1, 5, 3, 2, 3]])\n",
    "\n",
    "\n",
    "n = np.array([[1, 2, 3, 4, 5, 6, 2],  [2, 3, 1, 7, 2, 3, 3]])\n",
    "\n",
    "print(m.shape)\n",
    "print(n.shape)"
   ]
  },
  {
   "cell_type": "code",
   "execution_count": null,
   "metadata": {},
   "outputs": [],
   "source": [
    "find_cos_dist(m, n)"
   ]
  }
 ],
 "metadata": {
  "language_info": {
   "name": "python"
  }
 },
 "nbformat": 4,
 "nbformat_minor": 2
}
