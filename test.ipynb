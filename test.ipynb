{
 "cells": [
  {
   "cell_type": "code",
   "execution_count": 3,
   "metadata": {},
   "outputs": [],
   "source": [
    "#displaying images\n",
    "%matplotlib inline\n",
    "import matplotlib.pyplot as plt\n",
    "from matplotlib.patches import Rectangle #drawing a rectangle\n",
    "#read images, convert to numpy, manipulate\n",
    "from PIL import Image\n",
    "import numpy as np\n",
    "import glob\n",
    "#identify edges, discriptive vectors etc\n",
    "from facenet_models import FacenetModel\n",
    "#other imports\n",
    "from descriptor import descriptorMatch, displayFinalPicture"
   ]
  },
  {
   "cell_type": "code",
   "execution_count": null,
   "metadata": {},
   "outputs": [],
   "source": [
    "model = FacenetModel()"
   ]
  },
  {
   "cell_type": "code",
   "execution_count": null,
   "metadata": {},
   "outputs": [],
   "source": [
    "pic = Image.open(r'.\\pics\\test\\Will_Smith_test.jpg')  \n",
    "pic_arr = np.array(pic)\n",
    "boxes, probabilities, landmarks = model.detect(pic_arr)\n",
    "descriptors = model.compute_descriptors(pic_arr, boxes)\n",
    "database = {}\n",
    "database.load('database.pkl')\n",
    "print(f\"Number of faces detected: {len(boxes)}\")\n",
    "verdict = descriptorMatch(database, descriptors, threshold=0.5)\n",
    "displayFinalPicture(pic_arr, verdict)\n"
   ]
  }
 ],
 "metadata": {
  "kernelspec": {
   "display_name": "week2",
   "language": "python",
   "name": "python3"
  },
  "language_info": {
   "codemirror_mode": {
    "name": "ipython",
    "version": 3
   },
   "file_extension": ".py",
   "mimetype": "text/x-python",
   "name": "python",
   "nbconvert_exporter": "python",
   "pygments_lexer": "ipython3",
   "version": "3.8.19"
  }
 },
 "nbformat": 4,
 "nbformat_minor": 2
}
