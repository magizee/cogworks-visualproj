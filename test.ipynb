{
 "cells": [
  {
   "cell_type": "code",
   "execution_count": 1,
   "metadata": {},
   "outputs": [],
   "source": [
    "#displaying images\n",
    "%matplotlib inline\n",
    "import matplotlib.pyplot as plt\n",
    "from matplotlib.patches import Rectangle #drawing a rectangle\n",
    "#read images, convert to numpy, manipulate\n",
    "from PIL import Image\n",
    "import numpy as np\n",
    "import glob\n",
    "#identify edges, discriptive vectors etc\n",
    "from facenet_models import FacenetModel\n",
    "#other imports\n",
    "from descriptor import descriptorMatch, displayFinalPicture"
   ]
  },
  {
   "cell_type": "code",
   "execution_count": 2,
   "metadata": {},
   "outputs": [],
   "source": [
    "model = FacenetModel()"
   ]
  },
  {
   "cell_type": "code",
   "execution_count": 5,
   "metadata": {},
   "outputs": [
    {
     "ename": "AttributeError",
     "evalue": "'dict' object has no attribute 'load'",
     "output_type": "error",
     "traceback": [
      "\u001b[1;31m---------------------------------------------------------------------------\u001b[0m",
      "\u001b[1;31mAttributeError\u001b[0m                            Traceback (most recent call last)",
      "Cell \u001b[1;32mIn[5], line 6\u001b[0m\n\u001b[0;32m      4\u001b[0m descriptors \u001b[38;5;241m=\u001b[39m model\u001b[38;5;241m.\u001b[39mcompute_descriptors(pic_arr, boxes)\n\u001b[0;32m      5\u001b[0m \u001b[38;5;66;03m#database = FaceDatabase()\u001b[39;00m\n\u001b[1;32m----> 6\u001b[0m \u001b[43mdatabase\u001b[49m\u001b[38;5;241;43m.\u001b[39;49m\u001b[43mload\u001b[49m(\u001b[38;5;124m'\u001b[39m\u001b[38;5;124mdatabase.pkl\u001b[39m\u001b[38;5;124m'\u001b[39m)\n\u001b[0;32m      7\u001b[0m \u001b[38;5;28mprint\u001b[39m(\u001b[38;5;124mf\u001b[39m\u001b[38;5;124m\"\u001b[39m\u001b[38;5;124mNumber of faces detected: \u001b[39m\u001b[38;5;132;01m{\u001b[39;00m\u001b[38;5;28mlen\u001b[39m(boxes)\u001b[38;5;132;01m}\u001b[39;00m\u001b[38;5;124m\"\u001b[39m)\n\u001b[0;32m      8\u001b[0m verdict \u001b[38;5;241m=\u001b[39m descriptorMatch(database, descriptors, threshold\u001b[38;5;241m=\u001b[39m\u001b[38;5;241m0.5\u001b[39m)\n",
      "\u001b[1;31mAttributeError\u001b[0m: 'dict' object has no attribute 'load'"
     ]
    }
   ],
   "source": [
    "pic = Image.open(r'.\\pics\\test\\Will_Smith_test.jpg')  \n",
    "pic_arr = np.array(pic)\n",
    "boxes, probabilities, landmarks = model.detect(pic_arr)\n",
    "descriptors = model.compute_descriptors(pic_arr, boxes)\n",
    "#database = FaceDatabase()\n",
    "database.load('database.pkl')\n",
    "print(f\"Number of faces detected: {len(boxes)}\")\n",
    "verdict = descriptorMatch(database, descriptors, threshold=0.5)\n",
    "print(verdict)\n",
    "displayFinalPicture(pic_arr, verdict)\n"
   ]
  },
  {
   "cell_type": "code",
   "execution_count": null,
   "metadata": {},
   "outputs": [],
   "source": []
  }
 ],
 "metadata": {
  "kernelspec": {
   "display_name": "week2",
   "language": "python",
   "name": "python3"
  },
  "language_info": {
   "codemirror_mode": {
    "name": "ipython",
    "version": 3
   },
   "file_extension": ".py",
   "mimetype": "text/x-python",
   "name": "python",
   "nbconvert_exporter": "python",
   "pygments_lexer": "ipython3",
   "version": "3.8.19"
  }
 },
 "nbformat": 4,
 "nbformat_minor": 2
}
