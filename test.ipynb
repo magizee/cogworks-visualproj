{
 "cells": [
  {
   "cell_type": "code",
   "execution_count": 1,
   "metadata": {},
   "outputs": [],
   "source": [
    "#displaying images\n",
    "import matplotlib.pyplot as plt\n",
    "from matplotlib.patches import Rectangle #drawing a rectangle\n",
    "#read images, convert to numpy, manipulate\n",
    "from PIL import Image\n",
    "import numpy as np\n",
    "import glob\n",
    "#identify edges, discriptive vectors etc\n",
    "from facenet_models import FacenetModel\n",
    "#other imports\n",
    "from vision_profile import FaceDatabase\n",
    "from descriptor import descriptorMatch, displayFinalPicture\n",
    "\n",
    "%matplotlib inline"
   ]
  },
  {
   "cell_type": "code",
   "execution_count": 2,
   "metadata": {},
   "outputs": [],
   "source": [
    "model = FacenetModel()"
   ]
  },
  {
   "cell_type": "code",
   "execution_count": 3,
   "metadata": {},
   "outputs": [
    {
     "ename": "OSError",
     "evalue": "[Errno 22] Invalid argument: '.\\\\pics\\test\\\\Angelina_Jolie_test.jpg'",
     "output_type": "error",
     "traceback": [
      "\u001b[1;31m---------------------------------------------------------------------------\u001b[0m",
      "\u001b[1;31mOSError\u001b[0m                                   Traceback (most recent call last)",
      "Cell \u001b[1;32mIn[3], line 1\u001b[0m\n\u001b[1;32m----> 1\u001b[0m pic \u001b[38;5;241m=\u001b[39m \u001b[43mImage\u001b[49m\u001b[38;5;241;43m.\u001b[39;49m\u001b[43mopen\u001b[49m\u001b[43m(\u001b[49m\u001b[38;5;124;43m'\u001b[39;49m\u001b[38;5;124;43m.\u001b[39;49m\u001b[38;5;124;43m\\\u001b[39;49m\u001b[38;5;124;43mpics\u001b[39;49m\u001b[38;5;130;43;01m\\t\u001b[39;49;00m\u001b[38;5;124;43mest\u001b[39;49m\u001b[38;5;124;43m\\\u001b[39;49m\u001b[38;5;124;43mAngelina_Jolie_test.jpg\u001b[39;49m\u001b[38;5;124;43m'\u001b[39;49m\u001b[43m)\u001b[49m  \n\u001b[0;32m      2\u001b[0m pic_arr \u001b[38;5;241m=\u001b[39m np\u001b[38;5;241m.\u001b[39marray(pic)\n\u001b[0;32m      3\u001b[0m boxes, probabilities, landmarks \u001b[38;5;241m=\u001b[39m model\u001b[38;5;241m.\u001b[39mdetect(pic_arr)\n",
      "File \u001b[1;32mc:\\Users\\kavya\\anaconda3\\envs\\week2\\lib\\site-packages\\PIL\\Image.py:3247\u001b[0m, in \u001b[0;36mopen\u001b[1;34m(fp, mode, formats)\u001b[0m\n\u001b[0;32m   3244\u001b[0m     filename \u001b[38;5;241m=\u001b[39m fp\n\u001b[0;32m   3246\u001b[0m \u001b[38;5;28;01mif\u001b[39;00m filename:\n\u001b[1;32m-> 3247\u001b[0m     fp \u001b[38;5;241m=\u001b[39m \u001b[43mbuiltins\u001b[49m\u001b[38;5;241;43m.\u001b[39;49m\u001b[43mopen\u001b[49m\u001b[43m(\u001b[49m\u001b[43mfilename\u001b[49m\u001b[43m,\u001b[49m\u001b[43m \u001b[49m\u001b[38;5;124;43m\"\u001b[39;49m\u001b[38;5;124;43mrb\u001b[39;49m\u001b[38;5;124;43m\"\u001b[39;49m\u001b[43m)\u001b[49m\n\u001b[0;32m   3248\u001b[0m     exclusive_fp \u001b[38;5;241m=\u001b[39m \u001b[38;5;28;01mTrue\u001b[39;00m\n\u001b[0;32m   3250\u001b[0m \u001b[38;5;28;01mtry\u001b[39;00m:\n",
      "\u001b[1;31mOSError\u001b[0m: [Errno 22] Invalid argument: '.\\\\pics\\test\\\\Angelina_Jolie_test.jpg'"
     ]
    }
   ],
   "source": [
    "pic = Image.open('.\\pics\\test\\Angelina_Jolie_test.jpg')  \n",
    "pic_arr = np.array(pic)\n",
    "boxes, probabilities, landmarks = model.detect(pic_arr)\n",
    "descriptors = model.compute_descriptors(pic_arr, boxes)\n",
    "#database = FaceDatabase()\n",
    "db = FaceDatabase(file_path=\"database.pkl\")\n",
    "db.load('database.pkl')\n",
    "print(f\"Number of faces detected: {len(boxes)}\")\n",
    "verdict = descriptorMatch(db, descriptors, threshold=0.5)\n",
    "print(verdict)\n",
    "#displayFinalPicture(pic_arr, verdict)"
   ]
  },
  {
   "cell_type": "code",
   "execution_count": null,
   "metadata": {},
   "outputs": [],
   "source": []
  }
 ],
 "metadata": {
  "kernelspec": {
   "display_name": "week2",
   "language": "python",
   "name": "python3"
  },
  "language_info": {
   "codemirror_mode": {
    "name": "ipython",
    "version": 3
   },
   "file_extension": ".py",
   "mimetype": "text/x-python",
   "name": "python",
   "nbconvert_exporter": "python",
   "pygments_lexer": "ipython3",
   "version": "3.8.19"
  }
 },
 "nbformat": 4,
 "nbformat_minor": 2
}
